{
 "cells": [
  {
   "cell_type": "code",
   "execution_count": 1,
   "id": "f380b891-79df-4660-a55d-aa19d2b74e72",
   "metadata": {},
   "outputs": [
    {
     "name": "stdout",
     "output_type": "stream",
     "text": [
      "Error: 'hotel_bookings.csv' not found. Please ensure the file is in the correct location or change the filename.\n"
     ]
    },
    {
     "ename": "NameError",
     "evalue": "name 'df' is not defined",
     "output_type": "error",
     "traceback": [
      "\u001b[1;31m---------------------------------------------------------------------------\u001b[0m",
      "\u001b[1;31mNameError\u001b[0m                                 Traceback (most recent call last)",
      "Cell \u001b[1;32mIn[1], line 13\u001b[0m\n\u001b[0;32m     10\u001b[0m     exit() \u001b[38;5;66;03m# Stop the program if file is not found.\u001b[39;00m\n\u001b[0;32m     12\u001b[0m \u001b[38;5;66;03m# --- 2. Explore the data ---\u001b[39;00m\n\u001b[1;32m---> 13\u001b[0m \u001b[38;5;28mprint\u001b[39m(df\u001b[38;5;241m.\u001b[39mhead())  \u001b[38;5;66;03m# Display the first few rows\u001b[39;00m\n\u001b[0;32m     14\u001b[0m \u001b[38;5;28mprint\u001b[39m(df\u001b[38;5;241m.\u001b[39minfo())  \u001b[38;5;66;03m# Get information about the DataFrame\u001b[39;00m\n\u001b[0;32m     15\u001b[0m \u001b[38;5;28mprint\u001b[39m(df\u001b[38;5;241m.\u001b[39mdescribe())  \u001b[38;5;66;03m# Get summary statistics of numerical columns\u001b[39;00m\n",
      "\u001b[1;31mNameError\u001b[0m: name 'df' is not defined"
     ]
    }
   ],
   "source": [
    "import pandas as pd\n",
    "import numpy as np\n",
    "\n",
    "# --- 1. Load the data ---\n",
    "# Replace 'your_file.csv' with the actual path to your downloaded CSV file.\n",
    "try:\n",
    "    df = pd.read_csv('hotel_bookings.csv')  # Try the Kaggle dataset filename. Change if needed.\n",
    "except FileNotFoundError:\n",
    "    print(\"Error: 'hotel_bookings.csv' not found. Please ensure the file is in the correct location or change the filename.\")\n",
    "    exit() # Stop the program if file is not found.\n",
    "\n",
    "# --- 2. Explore the data ---\n",
    "print(df.head())  # Display the first few rows\n",
    "print(df.info())  # Get information about the DataFrame\n",
    "print(df.describe())  # Get summary statistics of numerical columns\n",
    "print(df['hotel'].value_counts()) # Count of each hotel type\n",
    "\n",
    "# --- 3. Clean the data ---\n",
    "# Drop rows with missing values (NaN)\n",
    "df = df.dropna(axis=0, how='any') #Remove any row with any null value.\n",
    "\n",
    "# --- 4. Manipulate the data ---\n",
    "# Example: Create a new column 'total_nights'\n",
    "df['total_nights'] = df['stays_in_weekend_nights'] + df['stays_in_week_nights']\n",
    "\n",
    "# Example: Create a new column 'is_family' based on children and babies\n",
    "df['is_family'] = np.where((df['children'] > 0) | (df['babies'] > 0), 'Yes', 'No')\n",
    "\n",
    "\n",
    "# --- 6. Final cleaning ---\n",
    "# Drop any remaining rows with missing values (if any)\n",
    "df = df.dropna()\n",
    "\n",
    "# --- 7. Analyze and visualize the data ---\n",
    "print(df['is_family'].value_counts())  # Count of family vs. non-family bookings\n",
    "\n",
    "# Example: Basic plot (requires matplotlib)\n",
    "try:\n",
    "    import matplotlib.pyplot as plt\n",
    "    df['total_nights'].hist()\n",
    "    plt.xlabel('Total Nights')\n",
    "    plt.ylabel('Frequency')\n",
    "    plt.title('Distribution of Total Nights Booked')\n",
    "    plt.show()\n",
    "except ImportError:\n",
    "    print(\"matplotlib not installed. Skipping plot.\")\n",
    "\n",
    "#Example: Grouping data and making a plot.\n",
    "try:\n",
    "    average_nights_by_hotel = df.groupby('hotel')['total_nights'].mean()\n",
    "    average_nights_by_hotel.plot(kind='bar')\n",
    "    plt.xlabel('Hotel Type')\n",
    "    plt.ylabel('Average Total Nights')\n",
    "    plt.title('Average Total Nights by Hotel Type')\n",
    "    plt.show()\n",
    "\n",
    "except ImportError:\n",
    "    print(\"matplotlib not installed. Skipping plot.\")"
   ]
  }
 ],
 "metadata": {
  "kernelspec": {
   "display_name": "Python 3 (ipykernel)",
   "language": "python",
   "name": "python3"
  },
  "language_info": {
   "codemirror_mode": {
    "name": "ipython",
    "version": 3
   },
   "file_extension": ".py",
   "mimetype": "text/x-python",
   "name": "python",
   "nbconvert_exporter": "python",
   "pygments_lexer": "ipython3",
   "version": "3.12.7"
  }
 },
 "nbformat": 4,
 "nbformat_minor": 5
}
